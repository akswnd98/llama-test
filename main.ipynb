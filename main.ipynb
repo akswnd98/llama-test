{
 "cells": [
  {
   "cell_type": "code",
   "execution_count": 1,
   "metadata": {},
   "outputs": [
    {
     "name": "stdout",
     "output_type": "stream",
     "text": [
      "cuda:0\n"
     ]
    },
    {
     "name": "stderr",
     "output_type": "stream",
     "text": [
      "Special tokens have been added in the vocabulary, make sure the associated word embeddings are fine-tuned or trained.\n"
     ]
    },
    {
     "data": {
      "application/vnd.jupyter.widget-view+json": {
       "model_id": "aabdae3c420c4f1489e333804e2b6959",
       "version_major": 2,
       "version_minor": 0
      },
      "text/plain": [
       "Loading checkpoint shards:   0%|          | 0/4 [00:00<?, ?it/s]"
      ]
     },
     "metadata": {},
     "output_type": "display_data"
    }
   ],
   "source": [
    "import torch\n",
    "from transformers import AutoModelForCausalLM, AutoTokenizer\n",
    "\n",
    "device = 'cuda:0' if torch.cuda.is_available() else 'cpu'\n",
    "\n",
    "print(device)\n",
    "\n",
    "tokenizer = AutoTokenizer.from_pretrained('../Meta-Llama-3-8B-Instruct')\n",
    "model = AutoModelForCausalLM.from_pretrained('../Meta-Llama-3-8B-Instruct').to(device)\n"
   ]
  },
  {
   "cell_type": "code",
   "execution_count": 3,
   "metadata": {},
   "outputs": [
    {
     "name": "stderr",
     "output_type": "stream",
     "text": [
      "The attention mask and the pad token id were not set. As a consequence, you may observe unexpected behavior. Please pass your input's `attention_mask` to obtain reliable results.\n",
      "Setting `pad_token_id` to `eos_token_id`:128009 for open-end generation.\n"
     ]
    },
    {
     "name": "stdout",
     "output_type": "stream",
     "text": [
      "Here is an example of how you can find prime numbers up to a given number `n` in Python:\n",
      "```\n",
      "def is_prime(n):\n",
      "    if n <= 1:\n",
      "        return False\n",
      "    for i in range(2, int(n ** 0.5) + 1):\n",
      "        if n % i == 0:\n",
      "            return False\n",
      "    return True\n",
      "\n",
      "def find_primes(n):\n",
      "    primes = []\n",
      "    for i in range(2, n + 1):\n",
      "        if is_prime(i):\n",
      "            primes.append(i)\n",
      "    return primes\n",
      "\n",
      "n = int(input(\"Enter a number: \"))\n",
      "primes = find_primes(n)\n",
      "print(\"Prime numbers up to\", n, \"are:\", primes)\n",
      "```\n",
      "This code uses a helper function `is_prime` to check if a given number is prime, and then uses a loop to iterate over the numbers from 2 to `n` and check if each one is prime using the `is_prime` function. The prime numbers are stored in a list and returned by the `find_primes` function.\n",
      "\n",
      "You can also use a more efficient algorithm such as the Sieve of Eratosthenes to find prime numbers up to a given number `n`. Here is an example of how you can implement it in Python:\n",
      "```\n",
      "def sieve_of_eratosthenes(n):\n",
      "    sieve = [True] * (n + 1)\n",
      "    sieve[0] = sieve[1] = False\n",
      "    for i in range(2, int(n ** 0.5) + 1):\n",
      "        if sieve[i]:\n",
      "            for j in range(i * i, n + 1, i):\n",
      "                sieve[j] = False\n",
      "    return [p for p in range(2, n + 1) if sieve[p]]\n",
      "\n",
      "n = int(input(\"Enter a number: \"))\n",
      "primes = sieve_of_eratosthenes(n)\n",
      "print(\"Prime numbers up to\", n, \"are:\", primes)\n",
      "```\n",
      "This code uses a boolean array `sieve` to keep track of whether each number is prime or not. It starts by assuming all numbers are prime, and then iterates over the numbers from 2 to `n`, marking as composite (not prime) any number that is divisible by a previously found prime number. The prime numbers are then returned as a list.\n",
      "\n",
      "Note that the Sieve of Eratosthenes algorithm is more efficient than the previous implementation for large values of `n`, but it requires more memory to store the boolean array.\n"
     ]
    }
   ],
   "source": [
    "messages = [\n",
    "  {'role': 'system', 'content': 'You are a software engineer.'},\n",
    "  {'role': 'user', 'content': 'Please write code to find prime numbers up to n'}\n",
    "]\n",
    "\n",
    "input_ids = tokenizer.apply_chat_template(\n",
    "    messages,\n",
    "    add_generation_prompt=True,\n",
    "    return_tensors=\"pt\"\n",
    ").to(model.device)\n",
    "\n",
    "terminators = [\n",
    "  tokenizer.eos_token_id,\n",
    "  tokenizer.convert_tokens_to_ids('<|eot_id|>')\n",
    "]\n",
    "\n",
    "outputs = model.generate(\n",
    "    input_ids,\n",
    "    max_new_tokens=100000,\n",
    "    eos_token_id=terminators,\n",
    "    do_sample=True,\n",
    "    temperature=0.6,\n",
    "    top_p=0.9,\n",
    ")\n",
    "response = outputs[0][input_ids.shape[-1]:]\n",
    "print(tokenizer.decode(response, skip_special_tokens=True))"
   ]
  }
 ],
 "metadata": {
  "kernelspec": {
   "display_name": "base",
   "language": "python",
   "name": "python3"
  },
  "language_info": {
   "codemirror_mode": {
    "name": "ipython",
    "version": 3
   },
   "file_extension": ".py",
   "mimetype": "text/x-python",
   "name": "python",
   "nbconvert_exporter": "python",
   "pygments_lexer": "ipython3",
   "version": "3.11.7"
  }
 },
 "nbformat": 4,
 "nbformat_minor": 2
}
